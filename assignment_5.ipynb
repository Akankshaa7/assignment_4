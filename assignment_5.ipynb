{
  "nbformat": 4,
  "nbformat_minor": 0,
  "metadata": {
    "colab": {
      "provenance": []
    },
    "kernelspec": {
      "name": "python3",
      "display_name": "Python 3"
    },
    "language_info": {
      "name": "python"
    }
  },
  "cells": [
    {
      "cell_type": "code",
      "execution_count": null,
      "metadata": {
        "id": "Xovx_VPa4d6p"
      },
      "outputs": [],
      "source": []
    },
    {
      "cell_type": "markdown",
      "source": [
        "# **Files, exceptional handling, logging and**\n",
        "# **memory management Questions**\n",
        "\n"
      ],
      "metadata": {
        "id": "tlZoQLo645HP"
      }
    },
    {
      "cell_type": "markdown",
      "source": [
        "1.What is the difference between interpreted and compiled languages\n",
        "\n",
        "--->Compiled languages translate the entire source code into machine code using a compiler before execution. This makes them faster and efficient, with errors caught at compile-time. However, the compiled code is platform-dependent and needs to be recompiled for different systems. Examples: C, C++.\n",
        "\n",
        "Interpreted languages execute code line-by-line using an interpreter, making them slower but easier to test and debug. Errors are caught at runtime, and the same code can run on different platforms as long as the interpreter is available. Examples: Python, JavaScript."
      ],
      "metadata": {
        "id": "1AbpTt344_oV"
      }
    },
    {
      "cell_type": "markdown",
      "source": [
        "2.What is exception handling in Python\n",
        "\n",
        "--->Exception handling in Python is a way to manage runtime errors in a program so it doesn’t crash unexpectedly. It allows you to detect and handle errors gracefully, providing a proper message or alternate action instead of stopping the program.\n",
        "\n",
        "Python uses try-except blocks for exception handling:\n",
        "\n",
        "try block → Code that may cause an error.\n",
        "\n",
        "except block → Code that runs if an error occurs.\n",
        "\n",
        "else block (optional) → Runs if no error occurs.\n",
        "\n",
        "finally block (optional) → Always runs, whether there’s an error or not (often used for cleanup)."
      ],
      "metadata": {
        "id": "wpGGhpcX6cCt"
      }
    },
    {
      "cell_type": "markdown",
      "source": [
        "3.What is the purpose of the finally block in exception handling\n",
        "\n",
        "--->The finally block in Python is used to execute code no matter what happens — whether an exception occurs or not.\n",
        "\n",
        "Purpose:\n",
        "\n",
        "It is mainly used for cleanup tasks, like closing files, releasing resources, or disconnecting from a database.\n",
        "\n",
        "Ensures certain code always runs, even if there’s an error in the try block."
      ],
      "metadata": {
        "id": "Ir1tT2Ac6nWZ"
      }
    },
    {
      "cell_type": "markdown",
      "source": [
        "4. What is logging in Python\n",
        "\n",
        "--->Logging in Python is the process of tracking events and messages that happen while a program runs. It is mainly used for debugging, monitoring, and error tracking.\n",
        "\n",
        "Instead of using print() statements, logging provides a systematic and flexible way to record information like errors, warnings, and program flow.\n",
        "\n",
        "Why Logging is Useful:\n",
        "\n",
        "Helps debug issues by keeping a record of what happened.\n",
        "\n",
        "Tracks runtime errors without stopping the program.\n",
        "\n",
        "Allows different severity levels for messages.\n",
        "\n",
        "Can save logs to a file for later analysis."
      ],
      "metadata": {
        "id": "JazaLbzN6yp9"
      }
    },
    {
      "cell_type": "markdown",
      "source": [
        "5.What is the significance of the __del__ method in Python\n",
        "\n",
        "--->The __del__ method in Python is a destructor method that is automatically called when an object is about to be destroyed or garbage collected.\n",
        "\n",
        "Significance:\n",
        "\n",
        "Used to clean up resources before an object is deleted, like:\n",
        "\n",
        "Closing files\n",
        "\n",
        "Releasing network connections\n",
        "\n",
        "Freeing memory or database resources\n",
        "\n",
        "Helps prevent resource leaks and keep the program efficient."
      ],
      "metadata": {
        "id": "QI1PgIhQ67-q"
      }
    },
    {
      "cell_type": "markdown",
      "source": [
        "6.What is the difference between import and from ... import in Python\n",
        "\n",
        "--->import\n",
        "\n",
        "Imports the entire module.\n",
        "\n",
        "You must use the module name to access functions or variables.\n",
        "\n",
        "Example:\n",
        "\n",
        "import math\n",
        "print(math.sqrt(16))\n",
        "\n",
        "\n",
        "from ... import\n",
        "\n",
        "Imports specific functions, classes, or variables.\n",
        "\n",
        "You can use them directly without module name.\n",
        "\n",
        "Example:\n",
        "\n",
        "from math import sqrt\n",
        "print(sqrt(16))"
      ],
      "metadata": {
        "id": "AcvOcaE67F7V"
      }
    },
    {
      "cell_type": "markdown",
      "source": [
        "7.How can you handle multiple exceptions in Python\n",
        "\n",
        "--->Multiple except blocks – Handle each exception separately.\n",
        "\n",
        "try:\n",
        "    num = int(input())\n",
        "    print(10 / num)\n",
        "except ZeroDivisionError:\n",
        "    print(\"Cannot divide by zero!\")\n",
        "except ValueError:\n",
        "    print(\"Invalid input!\")\n",
        "\n",
        "\n",
        "Single except with tuple – Handle multiple exceptions together.\n",
        "\n",
        "try:\n",
        "    num = int(input())\n",
        "    print(10 / num)\n",
        "except (ZeroDivisionError, ValueError):\n",
        "    print(\"Invalid input or zero division!\")\n",
        "\n",
        "\n",
        "Generic Exception – Catch all exceptions.\n",
        "\n",
        "try:\n",
        "    num = int(input())\n",
        "    print(10 / num)\n",
        "except Exception as e:\n",
        "    print(\"Error:\", e)"
      ],
      "metadata": {
        "id": "z9joSybG7YIK"
      }
    },
    {
      "cell_type": "markdown",
      "source": [
        "8. What is the purpose of the with statement when handling files in Python\n",
        "\n",
        "--->The with statement in Python is used to handle files safely and efficiently by automatically managing resources.\n",
        "\n",
        "Purpose:\n",
        "\n",
        "It automatically closes the file after the block of code is executed, even if an error occurs.\n",
        "\n",
        "Makes code cleaner and safer, avoiding memory leaks or open file issues.\n",
        "\n",
        "Example Without with:\n",
        "file = open(\"data.txt\", \"r\")\n",
        "content = file.read()\n",
        "file.close()  # Must close manually\n",
        "\n",
        "\n",
        "If an error occurs before file.close(), the file stays open.\n",
        "\n",
        "Example With with:\n",
        "with open(\"data.txt\", \"r\") as file:\n",
        "    content = file.read()\n"
      ],
      "metadata": {
        "id": "Xfakaole7pfH"
      }
    },
    {
      "cell_type": "markdown",
      "source": [
        "9. What is the difference between multithreading and multiprocessing\n",
        "\n",
        "-->1. Multithreading\n",
        "\n",
        "Uses multiple threads within the same process.\n",
        "\n",
        "Threads share the same memory space, making communication easier but increasing the risk of data corruption (needs locks).\n",
        "\n",
        "Lightweight and faster to create.\n",
        "\n",
        "Limited by Python's GIL (Global Interpreter Lock) → only one thread runs at a time in CPython.\n",
        "\n",
        "Best for I/O-bound tasks (e.g., file handling, network requests).\n",
        "\n",
        "Example:\n",
        "\n",
        "import threading\n",
        "\n",
        "def task():\n",
        "    print(\"Thread running\")\n",
        "\n",
        "thread = threading.Thread(target=task)\n",
        "thread.start()\n",
        "\n",
        "2. Multiprocessing\n",
        "\n",
        "Uses multiple processes, each with its own memory space.\n",
        "\n",
        "Processes don’t share memory → no GIL limitation, true parallelism.\n",
        "\n",
        "Heavier and slower to create compared to threads.\n",
        "\n",
        "Best for CPU-bound tasks (e.g., data processing, calculations).\n",
        "\n",
        "Example:\n",
        "\n",
        "from multiprocessing import Process\n",
        "\n",
        "def task():\n",
        "    print(\"Process running\")\n",
        "\n",
        "process = Process(target=task)\n",
        "process.start()\n"
      ],
      "metadata": {
        "id": "WaetQ77L8COQ"
      }
    },
    {
      "cell_type": "markdown",
      "source": [
        "10.What are the advantages of using logging in a program\n",
        "\n",
        "--->Debugging Made Easy – Helps track and fix issues by recording program flow and errors.\n",
        "\n",
        "Error Tracking – Stores detailed error messages for later analysis.\n",
        "\n",
        "No Need for print() – More professional and flexible than using print() statements.\n",
        "\n",
        "Different Log Levels – Allows categorizing messages as DEBUG, INFO, WARNING, ERROR, CRITICAL.\n",
        "\n",
        "Saves Logs to Files – Logs can be stored for long-term monitoring.\n",
        "\n",
        "Improves Maintenance – Makes it easier to understand past issues and program behavior.\n",
        "\n",
        "Real-Time Monitoring – Useful in production to monitor apps while they run."
      ],
      "metadata": {
        "id": "IqIBp4JQ8Mxg"
      }
    },
    {
      "cell_type": "markdown",
      "source": [
        "11.What is memory management in Python\n",
        "\n",
        "--->Automatic Allocation\n",
        "\n",
        "When you create variables or objects, Python automatically allocates memory for them.\n",
        "\n",
        "Example:\n",
        "\n",
        "x = [1, 2, 3]  # Memory allocated for list\n",
        "\n",
        "\n",
        "Garbage Collection\n",
        "\n",
        "Python automatically frees unused memory using reference counting and a garbage collector.\n",
        "\n",
        "If no variable references an object, it gets deleted.\n",
        "\n",
        "Example:\n",
        "\n",
        "x = [1, 2, 3]\n",
        "x = None  # Old list memory will be reclaimed\n",
        "\n",
        "\n",
        "Private Heap Space\n",
        "\n",
        "All Python objects are stored in a private heap managed internally by Python.\n",
        "\n",
        "Memory Manager\n",
        "\n",
        "Python’s memory manager monitors and optimizes memory usage for performance."
      ],
      "metadata": {
        "id": "wGicZUhN8Xb3"
      }
    },
    {
      "cell_type": "markdown",
      "source": [
        "12.What are the basic steps involved in exception handling in Python\n",
        "\n",
        "--->Wrap code in a try block\n",
        "\n",
        "Write the code that might raise an error inside the try block.\n",
        "\n",
        "try:\n",
        "    num = int(input(\"Enter a number: \"))\n",
        "\n",
        "\n",
        "Catch the error using except\n",
        "\n",
        "If an error occurs, Python jumps to the except block to handle it.\n",
        "\n",
        "except ValueError:\n",
        "    print(\"Invalid input! Please enter a number.\")\n",
        "\n",
        "\n",
        "(Optional) Use else block\n",
        "\n",
        "Runs only if no error occurs.\n",
        "\n",
        "else:\n",
        "    print(\"Input accepted:\", num)\n",
        "\n",
        "\n",
        "(Optional) Use finally block\n",
        "\n",
        "Runs no matter what, used for cleanup tasks like closing files.\n",
        "\n",
        "finally:\n",
        "    print(\"Execution finished.\")"
      ],
      "metadata": {
        "id": "pyg7NkPL8pZz"
      }
    },
    {
      "cell_type": "markdown",
      "source": [
        "13.Why is memory management important in Python\n",
        "\n",
        "--->Prevents Memory Leaks\n",
        "\n",
        "Frees unused memory automatically so old, unused objects don’t pile up and slow down the system.\n",
        "\n",
        "Improves Performance\n",
        "\n",
        "Efficient memory allocation makes programs run faster and smoother.\n",
        "\n",
        "Automatic Garbage Collection\n",
        "\n",
        "Python’s garbage collector removes unreferenced objects, reducing the burden on developers to manually manage memory.\n",
        "\n",
        "Avoids Crashes\n",
        "\n",
        "Proper memory handling prevents the program from running out of memory, which could lead to unexpected crashes.\n",
        "\n",
        "Simplifies Development\n",
        "\n",
        "Developers can focus on writing code instead of worrying about manual memory allocation and deallocation, like in C or C++."
      ],
      "metadata": {
        "id": "JxnfawxL818_"
      }
    },
    {
      "cell_type": "markdown",
      "source": [
        "14.What is the role of try and except in exception handling\n",
        "\n",
        "--->Role of try:\n",
        "\n",
        "The try block contains the code that might raise an error.\n",
        "\n",
        "Python monitors this code for exceptions while it runs.\n",
        "\n",
        "If no error occurs, the except block is skipped.\n",
        "\n",
        "Example:\n",
        "\n",
        "try:\n",
        "    num = int(input(\"Enter a number: \"))\n",
        "    print(10 / num)  # Might raise ZeroDivisionError\n",
        "\n",
        "Role of except:\n",
        "\n",
        "The except block contains code to handle the error if one occurs inside the try block.\n",
        "\n",
        "Prevents the program from crashing and allows you to display a message or take corrective action.\n",
        "\n",
        "Example:\n",
        "\n",
        "except ZeroDivisionError:\n",
        "    print(\"Error: Cannot divide by zero!\")\n",
        "except ValueError:\n",
        "    print(\"Error: Please enter a valid number.\")"
      ],
      "metadata": {
        "id": "r7DTBcrC9AE7"
      }
    },
    {
      "cell_type": "markdown",
      "source": [
        "15.How does Python's garbage collection system work\n",
        "\n",
        "-->How It Works:\n",
        "\n",
        "Reference Counting (Primary Method)\n",
        "\n",
        "Every object in Python keeps track of how many variables reference it.\n",
        "\n",
        "When the reference count drops to zero, the object is immediately deleted and memory is freed.\n",
        "\n",
        "Example:\n",
        "\n",
        "x = [1, 2, 3]  # Reference count = 1\n",
        "y = x           # Reference count = 2\n",
        "del y           # Reference count = 1\n",
        "del x           # Reference count = 0 → Object deleted\n",
        "\n",
        "\n",
        "Handling Circular References\n",
        "\n",
        "Sometimes objects reference each other, creating a loop where their reference counts never reach zero.\n",
        "\n",
        "Python’s garbage collector (GC) detects these circular references and removes them.\n",
        "\n",
        "Example:\n",
        "\n",
        "a = []\n",
        "b = []\n",
        "a.append(b)\n",
        "b.append(a)  # Circular reference\n",
        "\n",
        "\n",
        "Generational Garbage Collection\n",
        "\n",
        "Objects are grouped into three generations:\n",
        "\n",
        "Generation 0: Newly created objects.\n",
        "\n",
        "Generation 1 & 2: Older objects that survived previous garbage collections.\n",
        "\n",
        "Young objects are collected more frequently because they are more likely to be temporary.\n",
        "\n",
        "This improves performance by reducing how often the GC runs on long-lived objects."
      ],
      "metadata": {
        "id": "pAtSzFpt9MbO"
      }
    },
    {
      "cell_type": "markdown",
      "source": [
        "16.What is the purpose of the else block in exception handling\n",
        "\n",
        "--->Purpose:\n",
        "\n",
        "To separate normal code from error-handling code.\n",
        "\n",
        "Keeps the try block focused on risky operations, and the else block focused on what should happen if everything works correctly.\n",
        "\n",
        "Improves code readability and structure."
      ],
      "metadata": {
        "id": "lkYGGGOs9XDO"
      }
    },
    {
      "cell_type": "markdown",
      "source": [
        "17.What are the common logging levels in Python\n",
        "\n",
        "--->Common Logging Levels:\n",
        "\n",
        "DEBUG – Detailed information for diagnosing problems.\n",
        "\n",
        "logging.debug(\"This is a debug message\")\n",
        "\n",
        "\n",
        "INFO – General program flow messages or progress information.\n",
        "\n",
        "logging.info(\"Program started\")\n",
        "\n",
        "\n",
        "WARNING – Indicates unexpected events or potential issues, but the program can continue.\n",
        "\n",
        "logging.warning(\"Low disk space\")\n",
        "\n",
        "\n",
        "ERROR – Signals a serious problem that caused part of the program to fail.\n",
        "\n",
        "logging.error(\"File not found\")\n",
        "\n",
        "\n",
        "CRITICAL – Very severe errors; the program may not be able to continue.\n",
        "\n",
        "logging.critical(\"System crash!\")"
      ],
      "metadata": {
        "id": "2ovbAhVM9j8v"
      }
    },
    {
      "cell_type": "markdown",
      "source": [
        "18.What is the difference between os.fork() and multiprocessing in Python\n",
        "\n",
        "--->1. os.fork()\n",
        "\n",
        "Creates a new process by duplicating the current process (a child process).\n",
        "\n",
        "Only available on Unix/Linux systems, not on Windows.\n",
        "\n",
        "Child process shares the code but has separate memory; manual management of communication and synchronization is required.\n",
        "\n",
        "Low-level and gives less control over processes.\n",
        "\n",
        "Example:\n",
        "\n",
        "import os\n",
        "\n",
        "pid = os.fork()\n",
        "if pid == 0:\n",
        "    print(\"Child process\")\n",
        "else:\n",
        "    print(\"Parent process\")\n",
        "\n",
        "2. multiprocessing module\n",
        "\n",
        "Provides a high-level API to create and manage separate processes.\n",
        "\n",
        "Works on both Unix/Linux and Windows.\n",
        "\n",
        "Offers tools for process pools, queues, and shared data, making inter-process communication easier.\n",
        "\n",
        "Easier to use for parallel programming in Python.\n",
        "\n",
        "Example:\n",
        "\n",
        "from multiprocessing import Process\n",
        "\n",
        "def task():\n",
        "    print(\"Process running\")\n",
        "\n",
        "p = Process(target=task)\n",
        "p.start()\n",
        "p.join()"
      ],
      "metadata": {
        "id": "7fw34Ge39uEq"
      }
    },
    {
      "cell_type": "markdown",
      "source": [
        "19. What is the importance of closing a file in Python\n",
        "\n",
        "--->Reasons to Close a File:\n",
        "\n",
        "Free System Resources\n",
        "\n",
        "Open files consume memory and file descriptors; closing them prevents resource leaks.\n",
        "\n",
        "Ensure Data is Written\n",
        "\n",
        "For files opened in write or append mode, closing ensures all data is flushed from the buffer to the disk.\n",
        "\n",
        "Avoid Errors\n",
        "\n",
        "Leaving files open can lead to file locks, preventing other programs from accessing them.\n",
        "\n",
        "Good Programming Practice\n",
        "\n",
        "Makes code clean, predictable, and safe."
      ],
      "metadata": {
        "id": "uIYsmg4P97Dh"
      }
    },
    {
      "cell_type": "markdown",
      "source": [
        "20.What is the difference between file.read() and file.readline() in Python\n",
        "\n",
        "-->1. file.read()\n",
        "\n",
        "Reads the entire file (or a specified number of characters) at once.\n",
        "\n",
        "Returns a string containing all the content.\n",
        "\n",
        "Useful when you need all data at once.\n",
        "\n",
        "Example:\n",
        "\n",
        "with open(\"data.txt\", \"r\") as file:\n",
        "    content = file.read()\n",
        "    print(content)\n",
        "\n",
        "2. file.readline()\n",
        "\n",
        "Reads one line at a time from the file.\n",
        "\n",
        "Returns a single line as a string, including the newline character \\n.\n",
        "\n",
        "Useful for processing files line by line.\n",
        "\n",
        "Example:\n",
        "\n",
        "with open(\"data.txt\", \"r\") as file:\n",
        "    line = file.readline()\n",
        "    while line:\n",
        "        print(line, end='')\n",
        "        line = file.readline()"
      ],
      "metadata": {
        "id": "30F18XwB-Ejj"
      }
    },
    {
      "cell_type": "markdown",
      "source": [
        "21.What is the logging module in Python used for\n",
        "\n",
        "--->Key Uses:\n",
        "\n",
        "Debugging – Helps identify and fix issues by keeping a record of program execution.\n",
        "\n",
        "Error Tracking – Captures exceptions and runtime errors without stopping the program.\n",
        "\n",
        "Monitoring – Keeps track of program flow and important events in production.\n",
        "\n",
        "Severity Levels – Supports different levels of messages: DEBUG, INFO, WARNING, ERROR, CRITICAL.\n",
        "\n",
        "Log Storage – Can save logs to files, console, or external systems for later analysis."
      ],
      "metadata": {
        "id": "m_Dy7Hcl-NBf"
      }
    },
    {
      "cell_type": "markdown",
      "source": [
        "22. What is the os module in Python used for in file handling\n",
        "\n",
        "--->The os module in Python provides a way to interact with the operating system, including file and directory operations. It is widely used in file handling for tasks that go beyond simple reading and writing.\n",
        "\n",
        "Common Uses of os in File Handling:\n",
        "\n",
        "File and Directory Operations\n",
        "\n",
        "Create, delete, and rename files or directories.\n",
        "\n",
        "import os\n",
        "\n",
        "os.mkdir(\"new_folder\")        # Create a directory\n",
        "os.rename(\"old.txt\", \"new.txt\")  # Rename a file\n",
        "os.remove(\"file.txt\")         # Delete a file\n",
        "\n",
        "\n",
        "Path Manipulation\n",
        "\n",
        "Work with file paths in a platform-independent way.\n",
        "\n",
        "path = os.path.join(\"folder\", \"file.txt\")\n",
        "print(os.path.abspath(path))  # Get absolute path\n",
        "\n",
        "\n",
        "Check File/Directory Existence\n",
        "\n",
        "if os.path.exists(\"file.txt\"):\n",
        "    print(\"File exists\")\n",
        "\n",
        "\n",
        "List Directory Contents\n",
        "\n",
        "print(os.listdir(\".\"))  # List all files in current directory\n",
        "\n",
        "\n",
        "Get File Properties\n",
        "\n",
        "print(os.stat(\"file.txt\"))  # File size, creation time, etc."
      ],
      "metadata": {
        "id": "vdzaoUl5-XM_"
      }
    },
    {
      "cell_type": "markdown",
      "source": [
        "23.What are the challenges associated with memory management in Python\n",
        "\n",
        "--->1. Circular References\n",
        "\n",
        "Objects that reference each other may not be immediately freed by reference counting.\n",
        "\n",
        "Although Python’s garbage collector handles cycles, detecting and cleaning them can add overhead.\n",
        "\n",
        "2. Memory Leaks\n",
        "\n",
        "Unintentional references to objects (e.g., in global variables or caches) can prevent memory from being freed, causing memory growth over time.\n",
        "\n",
        "3. Large Data Structures\n",
        "\n",
        "Handling very large lists, dictionaries, or objects can consume a lot of memory, leading to slow performance or crashes.\n",
        "\n",
        "4. Fragmentation\n",
        "\n",
        "Frequent allocation and deallocation of objects can lead to memory fragmentation, reducing efficient usage of the heap.\n",
        "\n",
        "5. Overhead of Garbage Collection\n",
        "\n",
        "Garbage collection introduces runtime overhead, which can slightly affect performance, especially in performance-critical applications.\n",
        "\n",
        "6. Limited Control\n",
        "\n",
        "Python developers have less direct control over memory compared to languages like C/C++, which can make fine-tuning memory usage harder."
      ],
      "metadata": {
        "id": "ykFL6rGa-jwr"
      }
    },
    {
      "cell_type": "markdown",
      "source": [
        "24. How do you raise an exception manually in Python\n",
        "\n",
        "--->Syntax:\n",
        "raise ExceptionType(\"Error message\")\n",
        "\n",
        "\n",
        "ExceptionType → Any built-in or custom exception (e.g., ValueError, TypeError).\n",
        "\n",
        "\"Error message\" → Optional message describing the error.\n",
        "\n",
        "Examples:\n",
        "\n",
        "1. Raising a built-in exception\n",
        "\n",
        "age = -5\n",
        "if age < 0:\n",
        "    raise ValueError(\"Age cannot be negative\")\n",
        "\n",
        "\n",
        "2. Raising a custom exception\n",
        "\n",
        "class MyError(Exception):\n",
        "    pass\n",
        "\n",
        "x = 10\n",
        "if x > 5:\n",
        "    raise MyError(\"Value cannot be greater than 5\")"
      ],
      "metadata": {
        "id": "lfDijTqb-sXV"
      }
    },
    {
      "cell_type": "markdown",
      "source": [
        "25.Why is it important to use multithreading in certain applications\n",
        "\n",
        "-->Reasons to Use Multithreading:\n",
        "\n",
        "Improves Responsiveness\n",
        "\n",
        "Useful in applications like GUIs or web servers where the program should remain responsive while performing background tasks.\n",
        "\n",
        "Parallel I/O Operations\n",
        "\n",
        "Threads can handle file operations, network requests, or database queries concurrently, reducing wait times.\n",
        "\n",
        "Resource Sharing\n",
        "\n",
        "Threads share the same memory space, making communication between them easier than with separate processes.\n",
        "\n",
        "Better CPU Utilization for I/O-bound Tasks\n",
        "\n",
        "While one thread waits for I/O, others can continue working, improving overall throughput.\n",
        "\n",
        "Simpler than Multiprocessing for Some Tasks\n",
        "\n",
        "Creating threads is lighter and faster than creating multiple processes, with lower overhead."
      ],
      "metadata": {
        "id": "fYDJ3ahd-1yU"
      }
    },
    {
      "cell_type": "markdown",
      "source": [
        "# **Practical Questions**"
      ],
      "metadata": {
        "id": "wsnNMTXT_CsW"
      }
    },
    {
      "cell_type": "markdown",
      "source": [
        "1.How can you open a file for writing in Python and write a string to it"
      ],
      "metadata": {
        "id": "gbeCsE1J_LRK"
      }
    },
    {
      "cell_type": "code",
      "source": [
        "\n",
        "with open('my_file.txt', 'w') as file:\n",
        "\n",
        "    file.write(\"Hello, this is a test string.\")\n",
        "\n",
        "print(\"String successfully written to 'my_file.txt'\")"
      ],
      "metadata": {
        "colab": {
          "base_uri": "https://localhost:8080/"
        },
        "id": "ciCv9xyi_RsV",
        "outputId": "88561eaf-1c01-4b65-e5c8-149aa70e6e70"
      },
      "execution_count": 1,
      "outputs": [
        {
          "output_type": "stream",
          "name": "stdout",
          "text": [
            "String successfully written to 'my_file.txt'\n"
          ]
        }
      ]
    },
    {
      "cell_type": "markdown",
      "source": [
        "2.Write a Python program to read the contents of a file and print each line"
      ],
      "metadata": {
        "id": "y3v15wPL_b9k"
      }
    },
    {
      "cell_type": "code",
      "metadata": {
        "colab": {
          "base_uri": "https://localhost:8080/"
        },
        "id": "85a8b41a",
        "outputId": "d5bfd1a2-5c8f-4c6b-f77a-79fb5d561910"
      },
      "source": [
        "\n",
        "with open('my_file.txt', 'r') as file:\n",
        "\n",
        "    for line in file:\n",
        "\n",
        "        print(line, end='')"
      ],
      "execution_count": 2,
      "outputs": [
        {
          "output_type": "stream",
          "name": "stdout",
          "text": [
            "Hello, this is a test string."
          ]
        }
      ]
    },
    {
      "cell_type": "markdown",
      "source": [
        "3. How would you handle a case where the file doesn't exist while trying to open it for reading"
      ],
      "metadata": {
        "id": "wH-0acLK_qZt"
      }
    },
    {
      "cell_type": "code",
      "metadata": {
        "colab": {
          "base_uri": "https://localhost:8080/"
        },
        "id": "5c714f44",
        "outputId": "65aa662d-986d-4998-b6c9-d836dacfe958"
      },
      "source": [
        "try:\n",
        "\n",
        "    with open('non_existent_file.txt', 'r') as file:\n",
        "        content = file.read()\n",
        "        print(content)\n",
        "except FileNotFoundError:\n",
        "\n",
        "    print(\"Error: The file was not found.\")"
      ],
      "execution_count": 3,
      "outputs": [
        {
          "output_type": "stream",
          "name": "stdout",
          "text": [
            "Error: The file was not found.\n"
          ]
        }
      ]
    },
    {
      "cell_type": "markdown",
      "source": [
        "4.Write a Python script that reads from one file and writes its content to another file"
      ],
      "metadata": {
        "id": "RVuXQ2AC_2DF"
      }
    },
    {
      "cell_type": "code",
      "metadata": {
        "colab": {
          "base_uri": "https://localhost:8080/"
        },
        "id": "8e334d87",
        "outputId": "9446e576-8abf-42d8-9bfd-e5593fdf2227"
      },
      "source": [
        "try:\n",
        "\n",
        "    with open('my_file.txt', 'r') as infile:\n",
        "\n",
        "        with open('my_file_copy.txt', 'w') as outfile:\n",
        "\n",
        "            content = infile.read()\n",
        "\n",
        "            outfile.write(content)\n",
        "\n",
        "    print(\"Content successfully copied from 'my_file.txt' to 'my_file_copy.txt'\")\n",
        "\n",
        "except FileNotFoundError:\n",
        "    print(\"Error: The source file 'my_file.txt' was not found.\")\n",
        "except Exception as e:\n",
        "    print(f\"An error occurred: {e}\")"
      ],
      "execution_count": 4,
      "outputs": [
        {
          "output_type": "stream",
          "name": "stdout",
          "text": [
            "Content successfully copied from 'my_file.txt' to 'my_file_copy.txt'\n"
          ]
        }
      ]
    },
    {
      "cell_type": "markdown",
      "source": [
        "5.How would you catch and handle division by zero error in Python"
      ],
      "metadata": {
        "id": "rOtC7m6QABnZ"
      }
    },
    {
      "cell_type": "code",
      "metadata": {
        "colab": {
          "base_uri": "https://localhost:8080/"
        },
        "id": "640f355f",
        "outputId": "4471942d-6345-4085-a910-7974fd84a7b9"
      },
      "source": [
        "try:\n",
        "\n",
        "    numerator = 10\n",
        "    denominator = 0\n",
        "    result = numerator / denominator\n",
        "    print(f\"The result is: {result}\")\n",
        "except ZeroDivisionError:\n",
        "\n",
        "    print(\"Error: Cannot divide by zero!\")"
      ],
      "execution_count": 5,
      "outputs": [
        {
          "output_type": "stream",
          "name": "stdout",
          "text": [
            "Error: Cannot divide by zero!\n"
          ]
        }
      ]
    },
    {
      "cell_type": "markdown",
      "source": [
        "6.Write a Python program that logs an error message to a log file when a division by zero exception occurs"
      ],
      "metadata": {
        "id": "utO2XLB9ANb7"
      }
    },
    {
      "cell_type": "code",
      "metadata": {
        "colab": {
          "base_uri": "https://localhost:8080/"
        },
        "id": "edf3b676",
        "outputId": "3f67a866-bafc-41a6-fe8e-14307d9709a1"
      },
      "source": [
        "import logging\n",
        "\n",
        "\n",
        "logging.basicConfig(filename='app.log', level=logging.ERROR, format='%(asctime)s - %(levelname)s - %(message)s')\n",
        "\n",
        "try:\n",
        "    numerator = 10\n",
        "    denominator = 0\n",
        "    result = numerator / denominator\n",
        "    print(f\"The result is: {result}\")\n",
        "except ZeroDivisionError:\n",
        "\n",
        "    logging.error(\"Division by zero error occurred!\")\n",
        "    print(\"An error occurred and has been logged.\")"
      ],
      "execution_count": 6,
      "outputs": [
        {
          "output_type": "stream",
          "name": "stderr",
          "text": [
            "ERROR:root:Division by zero error occurred!\n"
          ]
        },
        {
          "output_type": "stream",
          "name": "stdout",
          "text": [
            "An error occurred and has been logged.\n"
          ]
        }
      ]
    },
    {
      "cell_type": "markdown",
      "source": [
        "7. How do you log information at different levels (INFO, ERROR, WARNING) in Python using the logging module"
      ],
      "metadata": {
        "id": "3YK8TtazAWP2"
      }
    },
    {
      "cell_type": "code",
      "metadata": {
        "colab": {
          "base_uri": "https://localhost:8080/"
        },
        "id": "841ab805",
        "outputId": "8c713101-9c80-41a7-e750-a6a6d8149b15"
      },
      "source": [
        "import logging\n",
        "\n",
        "\n",
        "logging.basicConfig(level=logging.INFO, format='%(asctime)s - %(levelname)s - %(message)s')\n",
        "\n",
        "\n",
        "logging.debug(\"This is a debug message (won't be shown by default)\")\n",
        "logging.info(\"This is an informational message\")\n",
        "logging.warning(\"This is a warning message\")\n",
        "logging.error(\"This is an error message\")\n",
        "logging.critical(\"This is a critical message\")"
      ],
      "execution_count": 7,
      "outputs": [
        {
          "output_type": "stream",
          "name": "stderr",
          "text": [
            "WARNING:root:This is a warning message\n",
            "ERROR:root:This is an error message\n",
            "CRITICAL:root:This is a critical message\n"
          ]
        }
      ]
    },
    {
      "cell_type": "markdown",
      "source": [
        "8.Write a program to handle a file opening error using exception handling"
      ],
      "metadata": {
        "id": "mVyTZyAWAfJK"
      }
    },
    {
      "cell_type": "code",
      "source": [
        "try:\n",
        "\n",
        "    with open('non_existent_file.txt', 'r') as file:\n",
        "        content = file.read()\n",
        "        print(content)\n",
        "except FileNotFoundError:\n",
        "\n",
        "    print(\"Error: The file was not found.\")"
      ],
      "metadata": {
        "colab": {
          "base_uri": "https://localhost:8080/"
        },
        "id": "jf0sjLlqAsEg",
        "outputId": "cef14e76-4966-4bac-ed3a-a6d126a30761"
      },
      "execution_count": 8,
      "outputs": [
        {
          "output_type": "stream",
          "name": "stdout",
          "text": [
            "Error: The file was not found.\n"
          ]
        }
      ]
    },
    {
      "cell_type": "markdown",
      "source": [
        "9.How can you read a file line by line and store its content in a list in Python"
      ],
      "metadata": {
        "id": "DcuP3cWZAzjU"
      }
    },
    {
      "cell_type": "code",
      "metadata": {
        "colab": {
          "base_uri": "https://localhost:8080/"
        },
        "id": "98747ef7",
        "outputId": "0ad842cc-17cb-446a-b2ea-201812189919"
      },
      "source": [
        "\n",
        "with open('my_file.txt', 'r') as file:\n",
        "\n",
        "    lines = [line.strip() for line in file]\n",
        "\n",
        "\n",
        "print(lines)"
      ],
      "execution_count": 9,
      "outputs": [
        {
          "output_type": "stream",
          "name": "stdout",
          "text": [
            "['Hello, this is a test string.']\n"
          ]
        }
      ]
    },
    {
      "cell_type": "markdown",
      "source": [
        "10. How can you append data to an existing file in Python"
      ],
      "metadata": {
        "id": "Os9cbXmqBAWm"
      }
    },
    {
      "cell_type": "code",
      "metadata": {
        "colab": {
          "base_uri": "https://localhost:8080/"
        },
        "id": "3c1c3d20",
        "outputId": "ccc30bf4-4cba-465e-9d44-111e33d3c4fa"
      },
      "source": [
        "\n",
        "with open('my_file.txt', 'a') as file:\n",
        "\n",
        "    file.write(\"\\nThis line is appended.\")\n",
        "\n",
        "print(\"Data successfully appended to 'my_file.txt'\")"
      ],
      "execution_count": 10,
      "outputs": [
        {
          "output_type": "stream",
          "name": "stdout",
          "text": [
            "Data successfully appended to 'my_file.txt'\n"
          ]
        }
      ]
    },
    {
      "cell_type": "markdown",
      "source": [
        "11.Write a Python program that uses a try-except block to handle an error when attempting to access a\n",
        "dictionary key that doesn't exist"
      ],
      "metadata": {
        "id": "WAlNDXYZBKIh"
      }
    },
    {
      "cell_type": "code",
      "metadata": {
        "colab": {
          "base_uri": "https://localhost:8080/"
        },
        "id": "0df7df54",
        "outputId": "f9299067-9f26-4451-eb5b-f7ab92358ce7"
      },
      "source": [
        "my_dict = {\"apple\": 1, \"banana\": 2, \"cherry\": 3}\n",
        "\n",
        "try:\n",
        "\n",
        "    print(my_dict[\"grape\"])\n",
        "except KeyError:\n",
        "\n",
        "    print(\"Error: The key was not found in the dictionary.\")"
      ],
      "execution_count": 11,
      "outputs": [
        {
          "output_type": "stream",
          "name": "stdout",
          "text": [
            "Error: The key was not found in the dictionary.\n"
          ]
        }
      ]
    },
    {
      "cell_type": "markdown",
      "source": [
        "12.Write a program that demonstrates using multiple except blocks to handle different types of exceptions"
      ],
      "metadata": {
        "id": "oi4TlPSCBT1G"
      }
    },
    {
      "cell_type": "code",
      "metadata": {
        "colab": {
          "base_uri": "https://localhost:8080/"
        },
        "id": "d6e82783",
        "outputId": "5d0b9464-2a3f-47c7-e3c1-00928dfe608d"
      },
      "source": [
        "try:\n",
        "    num_str = input(\"Enter a number: \")\n",
        "    num = int(num_str)\n",
        "    result = 10 / num\n",
        "    print(f\"The result is: {result}\")\n",
        "except ValueError:\n",
        "    print(\"Error: Invalid input. Please enter an integer.\")\n",
        "except ZeroDivisionError:\n",
        "    print(\"Error: Cannot divide by zero.\")\n",
        "except Exception as e:\n",
        "    print(f\"An unexpected error occurred: {e}\")\n",
        "finally:\n",
        "    print(\"Execution finished.\")"
      ],
      "execution_count": 12,
      "outputs": [
        {
          "output_type": "stream",
          "name": "stdout",
          "text": [
            "Enter a number: 10\n",
            "The result is: 1.0\n",
            "Execution finished.\n"
          ]
        }
      ]
    },
    {
      "cell_type": "markdown",
      "source": [
        "13.How would you check if a file exists before attempting to read it in Python"
      ],
      "metadata": {
        "id": "JXx0fgpeBfQ2"
      }
    },
    {
      "cell_type": "code",
      "metadata": {
        "colab": {
          "base_uri": "https://localhost:8080/"
        },
        "id": "1c1b45bb",
        "outputId": "cf79c869-21f9-40c5-e5f7-d9319168329e"
      },
      "source": [
        "import os\n",
        "\n",
        "file_name = 'my_file.txt'\n",
        "\n",
        "if os.path.exists(file_name):\n",
        "    print(f\"File '{file_name}' exists. Proceeding to read.\")\n",
        "    try:\n",
        "        with open(file_name, 'r') as file:\n",
        "            content = file.read()\n",
        "            print(\"File content:\")\n",
        "            print(content)\n",
        "    except Exception as e:\n",
        "        print(f\"An error occurred while reading the file: {e}\")\n",
        "else:\n",
        "    print(f\"Error: File '{file_name}' does not exist.\")"
      ],
      "execution_count": 13,
      "outputs": [
        {
          "output_type": "stream",
          "name": "stdout",
          "text": [
            "File 'my_file.txt' exists. Proceeding to read.\n",
            "File content:\n",
            "Hello, this is a test string.\n",
            "This line is appended.\n"
          ]
        }
      ]
    },
    {
      "cell_type": "markdown",
      "source": [
        "14.Write a program that uses the logging module to log both informational and error messages"
      ],
      "metadata": {
        "id": "eTw67Z0zBmzH"
      }
    },
    {
      "cell_type": "code",
      "source": [
        "import logging\n",
        "\n",
        "\n",
        "logging.basicConfig(level=logging.INFO, format='%(asctime)s - %(levelname)s - %(message)s')\n",
        "\n",
        "\n",
        "logging.info(\"This is an informational message.\")\n",
        "logging.error(\"This is an error message.\")\n",
        "logging.warning(\"This is a warning message.\")"
      ],
      "metadata": {
        "colab": {
          "base_uri": "https://localhost:8080/"
        },
        "id": "_egSoroIBvlX",
        "outputId": "2a46260b-8b3e-4d42-d72e-c9a0eb3c0e18"
      },
      "execution_count": 14,
      "outputs": [
        {
          "output_type": "stream",
          "name": "stderr",
          "text": [
            "ERROR:root:This is an error message.\n",
            "WARNING:root:This is a warning message.\n"
          ]
        }
      ]
    },
    {
      "cell_type": "markdown",
      "source": [
        "15. Write a Python program that prints the content of a file and handles the case when the file is empty"
      ],
      "metadata": {
        "id": "ITCPGcGFB2MC"
      }
    },
    {
      "cell_type": "code",
      "metadata": {
        "colab": {
          "base_uri": "https://localhost:8080/"
        },
        "id": "ca5fd500",
        "outputId": "a811d958-a789-4d40-a268-e7947477c2ed"
      },
      "source": [
        "import os\n",
        "\n",
        "file_name = 'my_file.txt'\n",
        "\n",
        "try:\n",
        "    with open(file_name, 'r') as file:\n",
        "        content = file.read()\n",
        "        if not content:\n",
        "            print(f\"File '{file_name}' is empty.\")\n",
        "        else:\n",
        "            print(f\"Content of '{file_name}':\")\n",
        "            print(content)\n",
        "except FileNotFoundError:\n",
        "    print(f\"Error: File '{file_name}' not found.\")\n",
        "except Exception as e:\n",
        "    print(f\"An error occurred: {e}\")"
      ],
      "execution_count": 15,
      "outputs": [
        {
          "output_type": "stream",
          "name": "stdout",
          "text": [
            "Content of 'my_file.txt':\n",
            "Hello, this is a test string.\n",
            "This line is appended.\n"
          ]
        }
      ]
    },
    {
      "cell_type": "markdown",
      "source": [
        "16.Demonstrate how to use memory profiling to check the memory usage of a small program"
      ],
      "metadata": {
        "id": "MkHCLOSAB-ci"
      }
    },
    {
      "cell_type": "code",
      "source": [
        "%pip install memory-profiler"
      ],
      "metadata": {
        "colab": {
          "base_uri": "https://localhost:8080/"
        },
        "id": "qWoIWQ6kCGD8",
        "outputId": "cea0bc87-40e3-41f1-d691-46a297153063"
      },
      "execution_count": 16,
      "outputs": [
        {
          "output_type": "stream",
          "name": "stdout",
          "text": [
            "Collecting memory-profiler\n",
            "  Downloading memory_profiler-0.61.0-py3-none-any.whl.metadata (20 kB)\n",
            "Requirement already satisfied: psutil in /usr/local/lib/python3.12/dist-packages (from memory-profiler) (5.9.5)\n",
            "Downloading memory_profiler-0.61.0-py3-none-any.whl (31 kB)\n",
            "Installing collected packages: memory-profiler\n",
            "Successfully installed memory-profiler-0.61.0\n"
          ]
        }
      ]
    },
    {
      "cell_type": "code",
      "metadata": {
        "colab": {
          "base_uri": "https://localhost:8080/"
        },
        "id": "2e2a09d6",
        "outputId": "fd76adc8-847d-4812-e07b-94bf3da0ed0f"
      },
      "source": [
        "\n",
        "from memory_profiler import profile\n",
        "\n",
        "@profile\n",
        "def create_list():\n",
        "    my_list = []\n",
        "    for i in range(1000000):\n",
        "        my_list.append(i)\n",
        "    return my_list\n",
        "\n",
        "if __name__ == '__main__':\n",
        "    my_list = create_list()"
      ],
      "execution_count": 17,
      "outputs": [
        {
          "output_type": "stream",
          "name": "stdout",
          "text": [
            "ERROR: Could not find file /tmp/ipython-input-1111586139.py\n"
          ]
        }
      ]
    },
    {
      "cell_type": "markdown",
      "source": [
        "17.Write a Python program to create and write a list of numbers to a file, one number per line"
      ],
      "metadata": {
        "id": "B4PcZvF5CUFA"
      }
    },
    {
      "cell_type": "code",
      "metadata": {
        "colab": {
          "base_uri": "https://localhost:8080/"
        },
        "id": "43ffef95",
        "outputId": "2b7c3459-be1d-4d02-dbd1-e62b1877ed82"
      },
      "source": [
        "\n",
        "numbers = [1, 2, 3, 4, 5, 6, 7, 8, 9, 10]\n",
        "\n",
        "\n",
        "file_name = 'numbers.txt'\n",
        "\n",
        "try:\n",
        "\n",
        "    with open(file_name, 'w') as file:\n",
        "\n",
        "        for number in numbers:\n",
        "\n",
        "            file.write(str(number) + '\\n')\n",
        "\n",
        "    print(f\"List of numbers successfully written to '{file_name}'\")\n",
        "\n",
        "except Exception as e:\n",
        "    print(f\"An error occurred: {e}\")"
      ],
      "execution_count": 18,
      "outputs": [
        {
          "output_type": "stream",
          "name": "stdout",
          "text": [
            "List of numbers successfully written to 'numbers.txt'\n"
          ]
        }
      ]
    },
    {
      "cell_type": "markdown",
      "source": [
        "18. How would you implement a basic logging setup that logs to a file with rotation after 1MB"
      ],
      "metadata": {
        "id": "47WEd_U7CfUq"
      }
    },
    {
      "cell_type": "code",
      "metadata": {
        "colab": {
          "base_uri": "https://localhost:8080/"
        },
        "id": "e6e7eaa3",
        "outputId": "79e6732e-c945-47a9-8e23-686b24784312"
      },
      "source": [
        "import logging\n",
        "from logging.handlers import RotatingFileHandler\n",
        "import os\n",
        "\n",
        "\n",
        "log_file = 'rotating_app.log'\n",
        "\n",
        ")\n",
        "max_log_size = 1024 * 1024\n",
        "\n",
        "\n",
        "backup_count = 3\n",
        "\n",
        "\n",
        "logger = logging.getLogger('my_rotating_logger')\n",
        "logger.setLevel(logging.INFO)\n",
        "\n",
        "\n",
        "handler = RotatingFileHandler(log_file, maxBytes=max_log_size, backupCount=backup_count)\n",
        "\n",
        "\n",
        "formatter = logging.Formatter('%(asctime)s - %(name)s - %(levelname)s - %(message)s')\n",
        "\n",
        "\n",
        "handler.setFormatter(formatter)\n",
        "\n",
        "\n",
        "logger.addHandler(handler)\n",
        "\n",
        "\n",
        "logger.info(\"This is an informational message.\")\n",
        "logger.error(\"This is an error message.\")\n",
        "logger.warning(\"This is a warning message.\")\n",
        "\n",
        "print(f\"Log messages written to '{log_file}' with rotation enabled (max size: {max_log_size} bytes, backup count: {backup_count}).\")"
      ],
      "execution_count": 19,
      "outputs": [
        {
          "output_type": "stream",
          "name": "stderr",
          "text": [
            "INFO:my_rotating_logger:This is an informational message.\n",
            "ERROR:my_rotating_logger:This is an error message.\n",
            "WARNING:my_rotating_logger:This is a warning message.\n"
          ]
        },
        {
          "output_type": "stream",
          "name": "stdout",
          "text": [
            "Log messages written to 'rotating_app.log' with rotation enabled (max size: 1048576 bytes, backup count: 3).\n"
          ]
        }
      ]
    },
    {
      "cell_type": "markdown",
      "source": [
        "19.Write a program that handles both IndexError and KeyError using a try-except block"
      ],
      "metadata": {
        "id": "6Fs_oIFaCyF2"
      }
    },
    {
      "cell_type": "code",
      "metadata": {
        "colab": {
          "base_uri": "https://localhost:8080/"
        },
        "id": "d894ff0f",
        "outputId": "3094fdcc-30b3-481d-e89b-afe9c71cabf3"
      },
      "source": [
        "def handle_errors(data, index, key):\n",
        "    try:\n",
        "\n",
        "        list_element = data[index]\n",
        "        print(f\"Element at index {index}: {list_element}\")\n",
        "\n",
        "\n",
        "        dict_value = data[key]\n",
        "        print(f\"Value for key '{key}': {dict_value}\")\n",
        "\n",
        "    except (IndexError, KeyError):\n",
        "        print(\"Error: Either an invalid index was used for the list or an invalid key was used for the dictionary.\")\n",
        "    except Exception as e:\n",
        "        print(f\"An unexpected error occurred: {e}\")\n",
        "\n",
        "\n",
        "my_list = [1, 2, 3]\n",
        "my_dict = {\"a\": 1, \"b\": 2}\n",
        "\n",
        "print(\"Attempting to access valid index and key:\")\n",
        "handle_errors(my_list, 1, \"a\")\n",
        "\n",
        "print(\"\\nAttempting to access invalid index:\")\n",
        "handle_errors(my_list, 5, \"a\")\n",
        "\n",
        "print(\"\\nAttempting to access invalid key:\")\n",
        "handle_errors(my_dict, 0, \"c\")"
      ],
      "execution_count": 20,
      "outputs": [
        {
          "output_type": "stream",
          "name": "stdout",
          "text": [
            "Attempting to access valid index and key:\n",
            "Element at index 1: 2\n",
            "An unexpected error occurred: list indices must be integers or slices, not str\n",
            "\n",
            "Attempting to access invalid index:\n",
            "Error: Either an invalid index was used for the list or an invalid key was used for the dictionary.\n",
            "\n",
            "Attempting to access invalid key:\n",
            "Error: Either an invalid index was used for the list or an invalid key was used for the dictionary.\n"
          ]
        }
      ]
    },
    {
      "cell_type": "markdown",
      "source": [
        "20.How would you open a file and read its contents using a context manager in Python"
      ],
      "metadata": {
        "id": "ngV1ePcVC9f3"
      }
    },
    {
      "cell_type": "code",
      "metadata": {
        "colab": {
          "base_uri": "https://localhost:8080/"
        },
        "id": "f43665d5",
        "outputId": "fd39730c-5abf-498f-c0df-a94df5bcaa62"
      },
      "source": [
        "\n",
        "file_name = 'my_file.txt'\n",
        "\n",
        "try:\n",
        "\n",
        "    with open(file_name, 'r') as file:\n",
        "\n",
        "        content = file.read()\n",
        "        print(f\"Content of '{file_name}':\")\n",
        "        print(content)\n",
        "except FileNotFoundError:\n",
        "    print(f\"Error: File '{file_name}' not found.\")\n",
        "except Exception as e:\n",
        "    print(f\"An error occurred: {e}\")"
      ],
      "execution_count": 21,
      "outputs": [
        {
          "output_type": "stream",
          "name": "stdout",
          "text": [
            "Content of 'my_file.txt':\n",
            "Hello, this is a test string.\n",
            "This line is appended.\n"
          ]
        }
      ]
    },
    {
      "cell_type": "markdown",
      "source": [
        "21.Write a Python program that reads a file and prints the number of occurrences of a specific word"
      ],
      "metadata": {
        "id": "g5aVoM4WDHnI"
      }
    },
    {
      "cell_type": "code",
      "metadata": {
        "colab": {
          "base_uri": "https://localhost:8080/"
        },
        "id": "693120d6",
        "outputId": "79db5185-7655-4d28-9891-5b765c15efdb"
      },
      "source": [
        "import re\n",
        "\n",
        "def count_word_occurrences(file_path, word):\n",
        "    \"\"\"\n",
        "    Reads a file and counts the occurrences of a specific word.\n",
        "\n",
        "    Args:\n",
        "        file_path (str): The path to the file.\n",
        "        word (str): The word to count.\n",
        "\n",
        "    Returns:\n",
        "        int: The number of occurrences of the word.\n",
        "    \"\"\"\n",
        "    count = 0\n",
        "    try:\n",
        "        with open(file_path, 'r') as file:\n",
        "            content = file.read().lower()\n",
        "            count = len(re.findall(r'\\b' + re.escape(word.lower()) + r'\\b', content))\n",
        "    except FileNotFoundError:\n",
        "        print(f\"Error: File '{file_path}' not found.\")\n",
        "    except Exception as e:\n",
        "        print(f\"An error occurred: {e}\")\n",
        "    return count\n",
        "\n",
        "\n",
        "file_name = 'my_file.txt'\n",
        "word_to_find = 'this'\n",
        "\n",
        "occurrences = count_word_occurrences(file_name, word_to_find)\n",
        "\n",
        "if occurrences > 0:\n",
        "    print(f\"The word '{word_to_find}' appears {occurrences} times in '{file_name}'.\")"
      ],
      "execution_count": 22,
      "outputs": [
        {
          "output_type": "stream",
          "name": "stdout",
          "text": [
            "The word 'this' appears 2 times in 'my_file.txt'.\n"
          ]
        }
      ]
    },
    {
      "cell_type": "markdown",
      "source": [
        "22.How can you check if a file is empty before attempting to read its contents"
      ],
      "metadata": {
        "id": "gT8Hh21eDSz0"
      }
    },
    {
      "cell_type": "code",
      "metadata": {
        "colab": {
          "base_uri": "https://localhost:8080/"
        },
        "id": "8d3c5443",
        "outputId": "9dda44c6-4b72-46d9-ed87-f5057be8ab14"
      },
      "source": [
        "import os\n",
        "\n",
        "def is_file_empty(file_path):\n",
        "    \"\"\"\n",
        "    Checks if a file is empty.\n",
        "\n",
        "    Args:\n",
        "        file_path (str): The path to the file.\n",
        "\n",
        "    Returns:\n",
        "        bool: True if the file is empty, False otherwise.\n",
        "    \"\"\"\n",
        "    if not os.path.exists(file_path):\n",
        "        print(f\"Error: File '{file_path}' not found.\")\n",
        "        return False\n",
        "\n",
        "    return os.path.getsize(file_path) == 0\n",
        "\n",
        "# Example usage:\n",
        "file_name = 'my_file.txt'\n",
        "empty_file_name = 'empty_file.txt'\n",
        "\n",
        "\n",
        "with open(empty_file_name, 'w') as f:\n",
        "    pass\n",
        "\n",
        "if is_file_empty(file_name):\n",
        "    print(f\"'{file_name}' is empty.\")\n",
        "else:\n",
        "    print(f\"'{file_name}' is not empty.\")\n",
        "\n",
        "if is_file_empty(empty_file_name):\n",
        "    print(f\"'{empty_file_name}' is empty.\")\n",
        "else:\n",
        "    print(f\"'{empty_file_name}' is not empty.\")\n",
        "\n",
        "os.remove(empty_file_name)"
      ],
      "execution_count": 23,
      "outputs": [
        {
          "output_type": "stream",
          "name": "stdout",
          "text": [
            "'my_file.txt' is not empty.\n",
            "'empty_file.txt' is empty.\n"
          ]
        }
      ]
    },
    {
      "cell_type": "markdown",
      "source": [
        "23. Write a Python program that writes to a log file when an error occurs during file handling"
      ],
      "metadata": {
        "id": "i22pMTtsDeha"
      }
    },
    {
      "cell_type": "code",
      "metadata": {
        "colab": {
          "base_uri": "https://localhost:8080/"
        },
        "id": "ee8d0161",
        "outputId": "3d7303dc-2d58-42dd-920a-58ec58fa4232"
      },
      "source": [
        "import logging\n",
        "\n",
        "\n",
        "logging.basicConfig(filename='file_error.log', level=logging.ERROR, format='%(asctime)s - %(levelname)s - %(message)s')\n",
        "\n",
        "file_name = 'non_existent_file_for_logging.txt'\n",
        "\n",
        "try:\n",
        "\n",
        "    with open(file_name, 'r') as file:\n",
        "        content = file.read()\n",
        "        print(content)\n",
        "except FileNotFoundError:\n",
        "\n",
        "    logging.error(f\"File not found error occurred while trying to access '{file_name}'.\")\n",
        "    print(f\"Error: File '{file_name}' not found. An error message has been logged.\")\n",
        "except Exception as e:\n",
        "\n",
        "    logging.error(f\"An unexpected error occurred during file handling: {e}\")\n",
        "    print(f\"An unexpected error occurred. An error message has been logged.\")"
      ],
      "execution_count": 24,
      "outputs": [
        {
          "output_type": "stream",
          "name": "stderr",
          "text": [
            "ERROR:root:File not found error occurred while trying to access 'non_existent_file_for_logging.txt'.\n"
          ]
        },
        {
          "output_type": "stream",
          "name": "stdout",
          "text": [
            "Error: File 'non_existent_file_for_logging.txt' not found. An error message has been logged.\n"
          ]
        }
      ]
    }
  ]
}